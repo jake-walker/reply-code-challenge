{
 "cells": [
  {
   "cell_type": "code",
   "execution_count": 2,
   "metadata": {},
   "outputs": [],
   "source": [
    "import numpy as np"
   ]
  },
  {
   "cell_type": "code",
   "execution_count": 16,
   "metadata": {},
   "outputs": [],
   "source": [
    "def load_input(path):\n",
    "    return [line.rstrip(\"\\n\") for line in open(path, \"r\")]\n",
    "\n",
    "def save_output(path, l):\n",
    "    path = path.replace(\"input\", \"output\")\n",
    "    open(path, \"w\").write(\"\\n\".join(l))"
   ]
  },
  {
   "cell_type": "code",
   "execution_count": 17,
   "metadata": {},
   "outputs": [],
   "source": [
    "def process(file):\n",
    "    # Read all of the file\n",
    "    lines = load_input(file)\n",
    "    # Get the number of cases (first line of the file)\n",
    "    case_count = int(lines[0].strip())\n",
    "    \n",
    "    output = []\n",
    "    \n",
    "    # Loop through each of the cases\n",
    "    for case_no in range(0, case_count):\n",
    "        # Get the line containing the array (2n+2)\n",
    "        case = lines[(2*case_no)+2].strip()\n",
    "        # Load the string into a numpy array\n",
    "        arr = np.fromstring(case, dtype=int, sep=\" \")\n",
    "        # Add together the positive numbers\n",
    "        result = arr[arr > 0].sum()\n",
    "\n",
    "        output.append(\"Case #{}: {}\".format(case_no+1, result))\n",
    "        \n",
    "    save_output(file, output)"
   ]
  },
  {
   "cell_type": "code",
   "execution_count": 20,
   "metadata": {},
   "outputs": [],
   "source": [
    "process(\"input-test.txt\")"
   ]
  },
  {
   "cell_type": "code",
   "execution_count": 21,
   "metadata": {},
   "outputs": [],
   "source": [
    "process(\"input-1.txt\")"
   ]
  },
  {
   "cell_type": "code",
   "execution_count": 22,
   "metadata": {},
   "outputs": [],
   "source": [
    "process(\"input-2.txt\")"
   ]
  },
  {
   "cell_type": "code",
   "execution_count": 23,
   "metadata": {},
   "outputs": [],
   "source": [
    "process(\"input-3.txt\")"
   ]
  },
  {
   "cell_type": "code",
   "execution_count": 24,
   "metadata": {},
   "outputs": [],
   "source": [
    "process(\"input-4.txt\")"
   ]
  },
  {
   "cell_type": "code",
   "execution_count": 25,
   "metadata": {},
   "outputs": [],
   "source": [
    "process(\"input-5.txt\")"
   ]
  },
  {
   "cell_type": "code",
   "execution_count": null,
   "metadata": {},
   "outputs": [],
   "source": []
  }
 ],
 "metadata": {
  "kernelspec": {
   "display_name": "Python 3",
   "language": "python",
   "name": "python3"
  },
  "language_info": {
   "codemirror_mode": {
    "name": "ipython",
    "version": 3
   },
   "file_extension": ".py",
   "mimetype": "text/x-python",
   "name": "python",
   "nbconvert_exporter": "python",
   "pygments_lexer": "ipython3",
   "version": "3.7.6"
  }
 },
 "nbformat": 4,
 "nbformat_minor": 4
}
